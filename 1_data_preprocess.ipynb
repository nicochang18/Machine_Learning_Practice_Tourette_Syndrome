{
 "cells": [
  {
   "attachments": {},
   "cell_type": "markdown",
   "metadata": {},
   "source": [
    "# Data Preprocess"
   ]
  },
  {
   "cell_type": "markdown",
   "metadata": {},
   "source": [
    "## Import Module"
   ]
  },
  {
   "cell_type": "code",
   "execution_count": 1,
   "metadata": {},
   "outputs": [],
   "source": [
    "import os\n",
    "import glob\n",
    "import pandas as pd\n",
    "import numpy as np \n",
    "import matplotlib.pyplot as plt\n",
    "import math\n",
    "import scipy.signal as signal\n",
    "import seaborn as sns"
   ]
  },
  {
   "cell_type": "code",
   "execution_count": 2,
   "metadata": {},
   "outputs": [],
   "source": [
    "# 5s rest, 30s trail, 5s feedback, 20s recovery\n",
    "t_base = 5\n",
    "t_trail = 35\n",
    "t_feedback = 40\n",
    "t_rest = 60\n",
    "trail_times = 23\n",
    "transfer_times = 8"
   ]
  },
  {
   "attachments": {},
   "cell_type": "markdown",
   "metadata": {},
   "source": [
    "## Calculate Oxy"
   ]
  },
  {
   "cell_type": "code",
   "execution_count": 3,
   "metadata": {},
   "outputs": [],
   "source": [
    "def Oxy_Cal(df, age):\n",
    "    '''\n",
    "    return: Oxygenated blood information\n",
    "\n",
    "    inputs:\n",
    "        df: df of LED information\n",
    "        age: age of the patients\n",
    "    '''\n",
    "    eHHb_730 = 1.102\n",
    "    eHHb_850 = 0.691\n",
    "    eHbO_730 = 0.39\n",
    "    eHbO_850 = 1.058\n",
    "    DPF_730 = 223.3+0.05624*(age**0.8493)-5.723*10**(-7)*(730**3)+0.001245*(730**2)+(-0.9025)*730\n",
    "    DPF_850 = 223.3+0.05624*(age**0.8493)-5.723*10**(-7)*(850**3)+0.001245*(850**2)+(-0.9025)*850\n",
    "    Oxy_data = pd.DataFrame() \n",
    "    for i in range(0, 4):\n",
    "        # Take the average of first ten data as the baseline\n",
    "        ori_730 = df.iloc[:10, 2*i].mean()\n",
    "        ori_850 = df.iloc[:10, 2*i+1].mean()\n",
    "        OD_730 = np.log10(df.iloc[:, 2*i] / ori_730)\n",
    "        OD_850 = np.log10(df.iloc[:, 2*i+1] / ori_850)\n",
    "        \n",
    "        Oxy_data['CH'+str(i+1)+'_Oxy'] = 10*(eHHb_730*(OD_850/DPF_850) - eHHb_850*(OD_730/DPF_730)) / ((eHHb_730*eHbO_850 - eHHb_850*eHbO_730)*0.03)\n",
    "        Oxy_data['CH'+str(i+1)+'_Deoxy'] = 10*(eHbO_850*(OD_730/DPF_730) - eHbO_730*(OD_850/DPF_850)) / ((eHHb_730*eHbO_850 - eHHb_850*eHbO_730)*0.03)\n",
    "    Oxy_data['Trails'] = df.Trails\n",
    "\n",
    "    Oxy_data = Oxy_data.iloc[10:]\n",
    "    return Oxy_data"
   ]
  },
  {
   "attachments": {},
   "cell_type": "markdown",
   "metadata": {},
   "source": [
    "## Fill NaN"
   ]
  },
  {
   "cell_type": "code",
   "execution_count": 4,
   "metadata": {},
   "outputs": [],
   "source": [
    "def fill_nan(df):\n",
    "    '''\n",
    "    return: df without NaN\n",
    "\n",
    "    inputs:\n",
    "        df: uncleared dataframe\n",
    "    '''\n",
    "    OwO_wona = pd.DataFrame()\n",
    "    # replace inf with NaN\n",
    "    df[np.isinf] = np.nan\n",
    "\n",
    "    # time series -> forward fill\n",
    "    OwO_wona = df.fillna(method='ffill')\n",
    "    return OwO_wona"
   ]
  },
  {
   "attachments": {},
   "cell_type": "markdown",
   "metadata": {},
   "source": [
    "## Filter"
   ]
  },
  {
   "cell_type": "code",
   "execution_count": 5,
   "metadata": {},
   "outputs": [],
   "source": [
    "def filtering(df):\n",
    "    '''\n",
    "    return: filterd dataframe\n",
    "\n",
    "    inputs:\n",
    "        df: dataframe without filter\n",
    "    '''\n",
    "    # butter-wotrh 4 order low-pass filter\n",
    "    N = 4\n",
    "    nyq = 0.5 * 17\n",
    "    OwO_filterd = pd.DataFrame()\n",
    "    for col in df.drop(columns = 'Trails'):\n",
    "        b, a = signal.butter(N, 0.1/nyq, 'low')\n",
    "        filterd = signal.filtfilt(b, a, df[col])\n",
    "        OwO_filterd[col] = filterd\n",
    "\n",
    "    OwO_filterd.index = df.index\n",
    "    OwO_filterd['Trails'] = df['Trails']\n",
    "    return OwO_filterd"
   ]
  },
  {
   "attachments": {},
   "cell_type": "markdown",
   "metadata": {},
   "source": [
    "## Average"
   ]
  },
  {
   "cell_type": "code",
   "execution_count": 6,
   "metadata": {},
   "outputs": [],
   "source": [
    "def ave(df):\n",
    "    '''\n",
    "    return: mean of all trails\n",
    "\n",
    "    inputs: \n",
    "        df: dataframe of all trails\n",
    "    '''\n",
    "    df_total = df[df['Trails'] == 1].iloc[-1010:].drop(columns = 'Trails').values\n",
    "    for i in range(2, 24):\n",
    "        df_total = df_total + df[df['Trails'] == i].iloc[-1010:].drop(columns = 'Trails').values\n",
    "        \n",
    "    OwO_trail_sum = pd.DataFrame(df_total, index = np.linspace(0, 60, 1010), columns = df.drop(columns = 'Trails').columns)\n",
    "    return OwO_trail_sum/trail_times"
   ]
  },
  {
   "attachments": {},
   "cell_type": "markdown",
   "metadata": {},
   "source": [
    "## Normalize"
   ]
  },
  {
   "cell_type": "code",
   "execution_count": 7,
   "metadata": {},
   "outputs": [],
   "source": [
    "def normalize(df):\n",
    "    '''\n",
    "    return: normalized dataframe\n",
    "\n",
    "    inputs:\n",
    "        df: dataframe\n",
    "    '''\n",
    "    OwO_normalized = pd.DataFrame()\n",
    "    OwO_normalized = (df - df.min())/(df.max()-df.min())\n",
    "    return OwO_normalized"
   ]
  },
  {
   "attachments": {},
   "cell_type": "markdown",
   "metadata": {},
   "source": [
    "## Main\n",
    "sub07 week8 要特別處理"
   ]
  },
  {
   "cell_type": "code",
   "execution_count": null,
   "metadata": {},
   "outputs": [],
   "source": [
    "# load patients information\n",
    "patients = pd.read_csv(r'path\\ts_patient_list.csv')\n",
    "\n",
    "# get all directory \n",
    "sub_dir = []\n",
    "for dirPath, dirNames, fileNames in os.walk(r'path\\TS_original_data'):\n",
    "    sub_dir.append(dirPath)\n",
    "\n",
    "# get all csv\n",
    "for sub in sub_dir:\n",
    "    split_list = sub.split('\\\\')\n",
    "    data_link = os.path.join('.\\\\' , split_list[-2], split_list[-1], \"*.csv\")\n",
    "    file_list = glob.glob(data_link)\n",
    "\n",
    "    # load data\n",
    "    for file in file_list:\n",
    "        data = pd.read_csv(file)\n",
    "        # get useful informaton\n",
    "        LED_Data = pd.DataFrame()\n",
    "        LED_Data['Time'] = data['Time_Arduino']  - data.loc[10, 'Time_Arduino']\n",
    "        LED_Data = LED_Data.set_index('Time')\n",
    "        LED_Data = data.loc[:, 'CH1_PD730' : 'CH4_PD850'] \n",
    "        LED_Data['Trails'] = data['trail_times']\n",
    "\n",
    "        # get age and group\n",
    "        age = patients.set_index('case').loc[split_list[-1], 'age']\n",
    "\n",
    "        # preprocess\n",
    "        try: \n",
    "            OwO = Oxy_Cal(LED_Data, age)\n",
    "            OWO_wona = fill_nan(OwO)\n",
    "            OwO_filterd = filtering(OWO_wona)\n",
    "            OwO_ave = ave(OwO_filterd)\n",
    "            OwO_normalized = normalize(OwO_ave)\n",
    "            OwO_normalized.to_csv('file_name')\n",
    "        except:\n",
    "            print(file)"
   ]
  },
  {
   "cell_type": "markdown",
   "metadata": {},
   "source": [
    "## 修資料"
   ]
  },
  {
   "cell_type": "code",
   "execution_count": null,
   "metadata": {},
   "outputs": [],
   "source": [
    "path = 'path\\sub07'\n",
    "os.chdir(path)\n",
    "file_name_1 = 'sub07_week8_Trail1-26.csv'\n",
    "data_1 = pd.read_csv(file_name_1)\n",
    "file_name_2 = 'sub07_week8_Trail27-32.csv'\n",
    "data_2 = pd.read_csv(file_name_2)"
   ]
  },
  {
   "cell_type": "code",
   "execution_count": null,
   "metadata": {},
   "outputs": [],
   "source": [
    "LED_Data = data_1.loc[:, 'CH1_PD730' : 'CH4_PD850']\n",
    "LED_Data['Trails'] = data_1.trail_times\n",
    "LED_Data['Time'] = data_1['Time_Arduino'] - data_1.loc[10, 'Time_Arduino']\n",
    "LED_Data = LED_Data.set_index('Time')\n",
    "OwO = Oxy_Cal(LED_Data, age)\n",
    "OwO_wona = fill_nan(OwO)\n",
    "OwO_filterd_1 = filtering(OwO_wona)"
   ]
  },
  {
   "cell_type": "code",
   "execution_count": null,
   "metadata": {},
   "outputs": [],
   "source": [
    "LED_Data = data_2.loc[:, 'CH1_PD730' : 'CH4_PD850']\n",
    "data_2['trail_times'] = data_2['trail_times'].apply(lambda x: x+26)\n",
    "LED_Data['Trails'] = data_2.trail_times\n",
    "LED_Data['Time'] = data_2['Time_Arduino'] - data_2.loc[10, 'Time_Arduino']\n",
    "LED_Data = LED_Data.set_index('Time')\n",
    "OwO = Oxy_Cal(LED_Data, age)\n",
    "OwO_wona = fill_nan(OwO)\n",
    "OwO_filterd_2 = filtering(OwO_wona)"
   ]
  },
  {
   "cell_type": "code",
   "execution_count": null,
   "metadata": {},
   "outputs": [],
   "source": [
    "OwO_1 = OwO_filterd_1[OwO_filterd_1['Trails'] < 26]\n",
    "OwO_2 = OwO_filterd_2.loc[5.61:]\n",
    "idd = OwO_2.index\n",
    "timeOwO = [x + 1558.7 for x in idd]\n",
    "OwO_2.index = timeOwO\n",
    "OwO_combine = pd.concat([OwO_1, OwO_2])"
   ]
  },
  {
   "cell_type": "code",
   "execution_count": null,
   "metadata": {},
   "outputs": [],
   "source": [
    "OwO_combine.to_csv('file_name')"
   ]
  }
 ],
 "metadata": {
  "kernelspec": {
   "display_name": "Python 3.8.8 ('base')",
   "language": "python",
   "name": "python3"
  },
  "language_info": {
   "codemirror_mode": {
    "name": "ipython",
    "version": 3
   },
   "file_extension": ".py",
   "mimetype": "text/x-python",
   "name": "python",
   "nbconvert_exporter": "python",
   "pygments_lexer": "ipython3",
   "version": "3.8.8"
  },
  "orig_nbformat": 4,
  "vscode": {
   "interpreter": {
    "hash": "f08154012ddadd8e950e6e9e035c7a7b32c136e7647e9b7c77e02eb723a8bedb"
   }
  }
 },
 "nbformat": 4,
 "nbformat_minor": 2
}
