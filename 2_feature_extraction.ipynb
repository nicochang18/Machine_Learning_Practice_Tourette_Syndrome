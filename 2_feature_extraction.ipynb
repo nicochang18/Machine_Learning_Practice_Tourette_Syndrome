{
 "cells": [
  {
   "cell_type": "markdown",
   "metadata": {},
   "source": [
    "# Feature"
   ]
  },
  {
   "cell_type": "markdown",
   "metadata": {},
   "source": [
    "- stage average\n",
    "- average difference \n",
    "- stage peak\n",
    "- stage activation \n",
    "- begin slope (trail, rest)\n",
    "- stadard deviation\n",
    "- std difference   "
   ]
  },
  {
   "cell_type": "markdown",
   "metadata": {},
   "source": [
    "base (5s) -> trail (30s) -> feedback (5s) -> rest (20s)"
   ]
  },
  {
   "cell_type": "markdown",
   "metadata": {},
   "source": [
    "## Module"
   ]
  },
  {
   "cell_type": "code",
   "execution_count": 3,
   "metadata": {},
   "outputs": [],
   "source": [
    "import os\n",
    "import glob\n",
    "import pandas as pd\n",
    "import numpy as np \n",
    "import matplotlib.pyplot as plt\n",
    "import math\n",
    "import scipy.signal as signal\n",
    "import seaborn as sns"
   ]
  },
  {
   "cell_type": "code",
   "execution_count": 4,
   "metadata": {},
   "outputs": [],
   "source": [
    "# 5秒rest, 30秒trail time, 5秒回饋, 20秒recovery\n",
    "t_base = 5\n",
    "t_trail = 35\n",
    "t_feedback = 40\n",
    "t_rest = 60\n",
    "trail_times = 23\n",
    "transfer_times = 8"
   ]
  },
  {
   "attachments": {},
   "cell_type": "markdown",
   "metadata": {},
   "source": [
    "## Stage Average\n",
    "`df[t0:t1].mean()`"
   ]
  },
  {
   "cell_type": "code",
   "execution_count": 36,
   "metadata": {},
   "outputs": [],
   "source": [
    "def stage_ave(df, plot=False, save=False):\n",
    "    '''\n",
    "    return: the average of each stage and difference of average of between two stages\n",
    "\n",
    "    inputs:\n",
    "        df: dataframe\n",
    "        plot: plot the figure or not\n",
    "        save: save the figure or not, figure not shown in code if true\n",
    "    '''\n",
    "    # Calculations\n",
    "    Base_ave = df[0:t_base].mean()\n",
    "    Trail_ave = df[t_base:t_trail].mean()\n",
    "    Feedback_ave = df[t_trail:t_feedback].mean()\n",
    "    Rest_ave = df[t_feedback:t_rest].mean()\n",
    "    Base_Trail_diff = Trail_ave - Base_ave\n",
    "    Trail_Feedback_diff = Feedback_ave - Trail_ave\n",
    "    Feedback_Rest_diff = Rest_ave - Feedback_ave\n",
    "\n",
    "    # rename col_name\n",
    "    Base_ave = Base_ave.rename(index = lambda col: col+'_Base_Ave')\n",
    "    Trail_ave = Trail_ave.rename(index = lambda col: col+'_Trail_Ave')\n",
    "    Feedback_ave = Feedback_ave.rename(index = lambda col: col+'_Feedback_Ave')\n",
    "    Rest_ave = Rest_ave.rename(index = lambda col: col+'_Rest_Ave')\n",
    "    Base_Trail_diff = Base_Trail_diff.rename(index = lambda col: col+'_Base_Trail_Diff')\n",
    "    Trail_Feedback_diff = Trail_Feedback_diff.rename(index = lambda col: col+'_Trail_Feedback_Diff')\n",
    "    Feedback_Rest_diff = Feedback_Rest_diff.rename(index = lambda col: col+'_Feedback_Rest_Diff')\n",
    "\n",
    "    # concat all series\n",
    "    Stage_Ave = pd.concat([Base_ave, Trail_ave, Feedback_ave, Rest_ave, Base_Trail_diff, Trail_Feedback_diff, Feedback_Rest_diff], axis=0)\n",
    "\n",
    "    # plot\n",
    "    if plot == True:\n",
    "        sns.set_theme(style='whitegrid')\n",
    "        sns.set(font_scale=1)\n",
    "        for ch in range(2,3):\n",
    "            plt.figure(figsize=(12, 5))\n",
    "            sns.lineplot(x=df.index, y=df['CH'+str(ch)+'_Oxy'], data=df, color='tab:red', label= 'Oxy', linewidth = 2.5)\n",
    "            plt.axvspan(0, t_base, facecolor='white', alpha=0.2) \n",
    "            plt.axvspan(t_base, t_trail, facecolor='lightcoral', alpha=0.2)\n",
    "            plt.axvspan(t_trail, t_feedback, facecolor='white', alpha=0.2)\n",
    "            plt.axvspan(t_feedback, t_rest, facecolor='steelblue', alpha=0.2)\n",
    "            plt.plot([t_base, t_trail], [Trail_ave['CH'+str(ch)+'_Oxy'], Trail_ave['CH'+str(ch)+'_Oxy']], color='k', linewidth = 2.5, linestyle='dashed')\n",
    "            plt.plot([0, t_base], [Base_ave['CH'+str(ch)+'_Oxy'], Base_ave['CH'+str(ch)+'_Oxy']], color='k', linewidth = 2.5, linestyle='dashed')\n",
    "            plt.annotate('', xy=(t_base, Base_ave['CH'+str(ch)+'_Oxy']), xytext=(t_base, Trail_ave['CH'+str(ch)+'_Oxy']), arrowprops=dict(color='black', arrowstyle='<->', linewidth=2.5)) # \n",
    "            plt.xlim([0, 60])\n",
    "            plt.legend()\n",
    "            plt.show()\n",
    "\n",
    "    return Stage_Ave"
   ]
  },
  {
   "attachments": {},
   "cell_type": "markdown",
   "metadata": {},
   "source": [
    "## Stage Peak\n",
    "`df[t0:t1].max()`"
   ]
  },
  {
   "cell_type": "code",
   "execution_count": 40,
   "metadata": {},
   "outputs": [],
   "source": [
    "def stage_peak(df, plot=False, save=False):\n",
    "    '''\n",
    "    return: the peak of each stage and difference of peak of between two stages\n",
    "\n",
    "    inputs:\n",
    "        df: dataframe\n",
    "        plot: plot the figure or not\n",
    "        save: save the figure or not, figure not shown in code if true\n",
    "    '''\n",
    "    # Calculation\n",
    "    Base_peak = df[0:t_base].max()\n",
    "    Trail_peak = df[t_base:t_trail].max()\n",
    "    Feedback_peak = df[t_trail:t_feedback].max()\n",
    "    Rest_peak = df[t_feedback:t_rest].max()\n",
    "    \n",
    "    # rename col_name\n",
    "    Base_peak = Base_peak.rename(index = lambda col: col+'_Base_Peak')\n",
    "    Trail_peak = Trail_peak.rename(index = lambda col: col+'_Trail_Peak')\n",
    "    Feedback_peak = Feedback_peak.rename(index = lambda col: col+'_Feedback_Peak')\n",
    "    Rest_peak = Rest_peak.rename(index = lambda col: col+'_Rest_Peak')\n",
    "\n",
    "    # concat all series\n",
    "    Stage_Peak = pd.concat([Base_peak, Trail_peak, Feedback_peak, Rest_peak], axis=0)\n",
    "\n",
    "    if plot == True:\n",
    "        for ch in range(2,3):\n",
    "            plt.figure(figsize=(12, 5))\n",
    "            sns.lineplot(x=df.index, y=df['CH'+str(ch)+'_Oxy'], data=df, color='tab:red', label= 'Oxy', linewidth = 2.5)\n",
    "            plt.axvspan(0, t_base, facecolor='white', alpha=0.2) \n",
    "            plt.axvspan(t_base, t_trail, facecolor='lightcoral', alpha=0.2)\n",
    "            plt.axvspan(t_trail, t_feedback, facecolor='white', alpha=0.2)\n",
    "            plt.axvspan(t_feedback, t_rest, facecolor='steelblue', alpha=0.2)\n",
    "            plt.plot([t_base, t_trail], [Trail_peak['CH'+str(ch)+'_Oxy'], Trail_peak['CH'+str(ch)+'_Oxy']], color='k', linewidth = 2.5, linestyle='dashed')\n",
    "            plt.plot([t_base, t_trail], [Trail_peak['CH'+str(ch)+'_Oxy'], Trail_peak['CH'+str(ch)+'_Oxy']], color='k', linewidth = 2.5, linestyle='dashed')\n",
    "            plt.annotate('', xy=((t_trail-t_base)/2, 0), xytext=(t_base, Trail_peak['CH'+str(ch)+'_Oxy']), arrowprops=dict(color='black', arrowstyle='<->', linewidth=2.5)) # \n",
    "            plt.xlim([0, 60])\n",
    "            plt.legend()\n",
    "            plt.show()\n",
    "\n",
    "    return Stage_Peak"
   ]
  },
  {
   "attachments": {},
   "cell_type": "markdown",
   "metadata": {},
   "source": [
    "## Stage Activation\n",
    "`df[t0:t1].max() - df[t0:t1].min()`"
   ]
  },
  {
   "cell_type": "code",
   "execution_count": 7,
   "metadata": {},
   "outputs": [],
   "source": [
    "def stage_activation(df, plot=False, save=False):\n",
    "    '''\n",
    "    return: the activarion of each stage and difference of peak of between two stages\n",
    "\n",
    "    inputs:\n",
    "        df: dataframe\n",
    "        plot: plot the figure or not\n",
    "        save: save the figure or not, figure not shown in code if true\n",
    "    '''\n",
    "    # Calculation\n",
    "    Base_activation = df[0:t_base].max()-df[0:t_base].min()\n",
    "    Trail_activation = df[t_base:t_trail].max()-df[t_base:t_trail].min()\n",
    "    Feedback_activation = df[t_trail:t_feedback].max()-df[t_trail:t_feedback].min()\n",
    "    Rest_activation = df[t_feedback:t_rest].max()-df[t_feedback:t_rest].min()\n",
    "    \n",
    "    # rename col_name\n",
    "    Base_activation = Base_activation.rename(index = lambda col: col+'_Base_Activation')\n",
    "    Trail_activation = Trail_activation.rename(index = lambda col: col+'_Trail_Activation')\n",
    "    Feedback_activation = Feedback_activation.rename(index = lambda col: col+'_Feedback_Activation')\n",
    "    Rest_activation = Rest_activation.rename(index = lambda col: col+'_Rest_Activation')\n",
    "\n",
    "    # concat all series\n",
    "    Stage_Activation = pd.concat([Base_activation, Trail_activation, Feedback_activation, Rest_activation], axis=0)\n",
    "\n",
    "    if plot == True:\n",
    "        for ch in range(2,3):\n",
    "            plt.figure(figsize=(12, 5))\n",
    "            sns.lineplot(x=df.index, y=df['CH'+str(ch)+'_Oxy'], data=df, color='tab:red', label= 'Oxy', linewidth = 2.5)\n",
    "            plt.axvspan(0, t_base, facecolor='white', alpha=0.2) \n",
    "            plt.axvspan(t_base, t_trail, facecolor='lightcoral', alpha=0.2)\n",
    "            plt.axvspan(t_trail, t_feedback, facecolor='white', alpha=0.2)\n",
    "            plt.axvspan(t_feedback, t_rest, facecolor='steelblue', alpha=0.2)\n",
    "            plt.plot([t_base, t_trail], [Trail_peak['CH'+str(ch)+'_Oxy'], Trail_peak['CH'+str(ch)+'_Oxy']], color='k', linewidth = 2.5, linestyle='dashed')\n",
    "            plt.plot([t_base, t_trail], [Trail_peak['CH'+str(ch)+'_Oxy'], Trail_peak['CH'+str(ch)+'_Oxy']], color='k', linewidth = 2.5, linestyle='dashed')\n",
    "            plt.annotate('', xy=((t_trail-t_base)/2, 0), xytext=(t_base, Trail_peak['CH'+str(ch)+'_Oxy']), arrowprops=dict(color='black', arrowstyle='<->', linewidth=2.5)) # \n",
    "            plt.xlim([0, 60])\n",
    "            plt.legend()\n",
    "            plt.show()\n",
    "\n",
    "    return Stage_Activation"
   ]
  },
  {
   "attachments": {},
   "cell_type": "markdown",
   "metadata": {},
   "source": [
    "## Begin slope\n",
    "`(df[t0+8] - df[t0]) / 8`"
   ]
  },
  {
   "cell_type": "code",
   "execution_count": 8,
   "metadata": {},
   "outputs": [],
   "source": [
    "def begin_slope(df, plot=False, save=False):\n",
    "    Trail_slope = (df[t_base:t_base+8].tail(1).reset_index(drop=True) -  df[t_base:t_base+8].head(1).reset_index(drop=True)) / 8\n",
    "    Rest_slope = (df[t_feedback:t_feedback+8].tail(1).reset_index(drop=True) -  df[t_feedback:t_feedback+8].head(1).reset_index(drop=True)) / 8\n",
    "\n",
    "    Trail_slope = Trail_slope.squeeze().rename(index = lambda col: col+'_Trail_Slope')\n",
    "    Rest_slope = Rest_slope.squeeze().rename(index = lambda col: col+'_Rest_Slope')\n",
    "    Stage_slope = pd.concat([Trail_slope, Rest_slope], axis=0)\n",
    "\n",
    "    return Stage_slope"
   ]
  },
  {
   "attachments": {},
   "cell_type": "markdown",
   "metadata": {},
   "source": [
    "## Stadard deviation\n",
    "`df[t0:t1].std()`"
   ]
  },
  {
   "cell_type": "code",
   "execution_count": 9,
   "metadata": {},
   "outputs": [],
   "source": [
    "def std(df, plot=False, save=False):\n",
    "    '''\n",
    "    return: the Stadard deviation of each stage and difference of peak of between two stages\n",
    "\n",
    "    inputs:\n",
    "        df: dataframe\n",
    "        plot: plot the figure or not\n",
    "        save: save the figure or not, figure not shown in code if true\n",
    "    '''\n",
    "    # Calculation\n",
    "    Base_std = df[0:t_base].std()\n",
    "    Trail_std = df[t_base:t_trail].std()\n",
    "    Feedback_std = df[t_trail:t_feedback].std()\n",
    "    Rest_std = df[t_feedback:t_rest].std()\n",
    "    Base_Trail_std_diff = Trail_std - Base_std\n",
    "    Trail_Feedback_std_diff = Feedback_std - Trail_std\n",
    "    Feedback_Rest_std_diff = Rest_std - Feedback_std\n",
    "    \n",
    "    # rename col_name\n",
    "    Base_std = Base_std.rename(index = lambda col: col+'_Base_Std')\n",
    "    Trail_std = Trail_std.rename(index = lambda col: col+'_Trail_Std')\n",
    "    Feedback_std = Feedback_std.rename(index = lambda col: col+'_Feedback_Std')\n",
    "    Rest_std = Rest_std.rename(index = lambda col: col+'_Rest_Std')\n",
    "    Base_Trail_std_diff = Base_Trail_std_diff.rename(index = lambda col: col+'_Base_Trail_Std_Diff')\n",
    "    Trail_Feedback_std_diff = Trail_Feedback_std_diff.rename(index = lambda col: col+'_Trail_Feedback_Std_Diff')\n",
    "    Feedback_Rest_std_diff = Feedback_Rest_std_diff.rename(index = lambda col: col+'_Feedback_Rest_Std_Diff')\n",
    "    \n",
    "    # concat all series\n",
    "    Stage_std = pd.concat([Base_std, Trail_std, Feedback_std, Rest_std, Base_Trail_std_diff, Trail_Feedback_std_diff, Feedback_Rest_std_diff], axis=0)\n",
    "\n",
    "    return Stage_std"
   ]
  },
  {
   "cell_type": "markdown",
   "metadata": {},
   "source": [
    "## Main"
   ]
  },
  {
   "cell_type": "code",
   "execution_count": null,
   "metadata": {},
   "outputs": [],
   "source": [
    "path = 'C:/Users/User/Desktop/Github/TS/4_normalized_data/'\n",
    "groups = ['High', 'Low']\n",
    "for group in groups:\n",
    "    os.chdir(path + group)\n",
    "    files = glob.glob('*csv')\n",
    "    Feature = pd.DataFrame()\n",
    "    for file in files:\n",
    "        print(file)\n",
    "        OwO = pd.read_csv(file, index_col='Time')\n",
    "        OwO = OwO.drop(columns=['CH1_Oxy', 'CH1_Deoxy', 'CH4_Oxy', 'CH4_Deoxy'])\n",
    "        OwO['CH2_HbT'] = OwO['CH2_Oxy'] + OwO['CH2_Deoxy']\n",
    "        OwO['CH3_HbT'] = OwO['CH3_Oxy'] + OwO['CH3_Deoxy']\n",
    "        stage_ave = stage_ave(OwO)\n",
    "        stage_peak = stage_peak(OwO)\n",
    "        stage_activation = stage_activation(OwO)\n",
    "        begin_slope = begin_slope(OwO)\n",
    "        std = std(OwO)\n",
    "        feature_temp =  pd.concat([stage_ave, stage_peak, stage_activation, begin_slope, std]).to_frame().T\n",
    "        feature = pd.concat([Feature, feature_temp])\n",
    "    feature.to_csv('C:/Users/User/Desktop/Github/TS/5_Feature/' + group + '_feature.csv', index=False)"
   ]
  }
 ],
 "metadata": {
  "kernelspec": {
   "display_name": "Python 3.9.7 ('base')",
   "language": "python",
   "name": "python3"
  },
  "language_info": {
   "codemirror_mode": {
    "name": "ipython",
    "version": 3
   },
   "file_extension": ".py",
   "mimetype": "text/x-python",
   "name": "python",
   "nbconvert_exporter": "python",
   "pygments_lexer": "ipython3",
   "version": "3.8.8"
  },
  "orig_nbformat": 4,
  "vscode": {
   "interpreter": {
    "hash": "f08154012ddadd8e950e6e9e035c7a7b32c136e7647e9b7c77e02eb723a8bedb"
   }
  }
 },
 "nbformat": 4,
 "nbformat_minor": 2
}
